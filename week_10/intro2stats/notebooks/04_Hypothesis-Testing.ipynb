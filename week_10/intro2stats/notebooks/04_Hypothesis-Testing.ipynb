{
 "cells": [
  {
   "cell_type": "markdown",
   "metadata": {},
   "source": [
    "# Instructions\n",
    "\n",
    "* This notebook has a combination of fill-in-the-blank and entire code blocks you need to solve. "
   ]
  },
  {
   "cell_type": "markdown",
   "metadata": {},
   "source": [
    "# Hypothesis Testing\n",
    "\n",
    "\n",
    "We would like to know if the effects we see in the sample(observed data) are likely to occur in the population. \n",
    "\n",
    "The way classical hypothesis testing works is by conducting a statistical test to answer the following question:\n",
    "> Given the sample and an effect, what is the probability of seeing that effect just by chance?\n",
    "\n",
    "Here are the steps on how we would do this\n",
    "\n",
    "1. Compute test statistic\n",
    "2. Define null hypothesis\n",
    "3. Compute p-value\n",
    "4. Interpret the result\n",
    "\n",
    "If p-value is very low (below 0.05), the effect is considered statistically significant. That means that effect is unlikely to have occured by chance. The inference? The effect is likely to be seen in the population too. \n",
    "\n",
    "This process is very similar to the *proof by contradiction* paradigm. We first assume that the effect is false. That's the null hypothesis. Next step is to compute the probability of obtaining that effect (the p-value). If p-value is very low (<0.05 as a rule of thumb), we reject the null hypothesis. "
   ]
  },
  {
   "cell_type": "code",
   "execution_count": 30,
   "metadata": {},
   "outputs": [],
   "source": [
    "import numpy as np\n",
    "import pandas as pd\n",
    "from scipy import stats\n",
    "import matplotlib as mpl\n",
    "%matplotlib inline"
   ]
  },
  {
   "cell_type": "code",
   "execution_count": 31,
   "metadata": {},
   "outputs": [],
   "source": [
    "import seaborn as sns\n",
    "sns.set(color_codes=True)"
   ]
  },
  {
   "cell_type": "code",
   "execution_count": 32,
   "metadata": {},
   "outputs": [
    {
     "data": {
      "text/html": [
       "<div>\n",
       "<style scoped>\n",
       "    .dataframe tbody tr th:only-of-type {\n",
       "        vertical-align: middle;\n",
       "    }\n",
       "\n",
       "    .dataframe tbody tr th {\n",
       "        vertical-align: top;\n",
       "    }\n",
       "\n",
       "    .dataframe thead th {\n",
       "        text-align: right;\n",
       "    }\n",
       "</style>\n",
       "<table border=\"1\" class=\"dataframe\">\n",
       "  <thead>\n",
       "    <tr style=\"text-align: right;\">\n",
       "      <th></th>\n",
       "      <th>State</th>\n",
       "      <th>HighQ</th>\n",
       "      <th>HighQN</th>\n",
       "      <th>MedQ</th>\n",
       "      <th>MedQN</th>\n",
       "      <th>LowQ</th>\n",
       "      <th>LowQN</th>\n",
       "      <th>date</th>\n",
       "    </tr>\n",
       "  </thead>\n",
       "  <tbody>\n",
       "    <tr>\n",
       "      <th>0</th>\n",
       "      <td>Alabama</td>\n",
       "      <td>339.06</td>\n",
       "      <td>1042</td>\n",
       "      <td>198.64</td>\n",
       "      <td>933</td>\n",
       "      <td>149.49</td>\n",
       "      <td>123</td>\n",
       "      <td>2014-01-01</td>\n",
       "    </tr>\n",
       "    <tr>\n",
       "      <th>1</th>\n",
       "      <td>Alaska</td>\n",
       "      <td>288.75</td>\n",
       "      <td>252</td>\n",
       "      <td>260.60</td>\n",
       "      <td>297</td>\n",
       "      <td>388.58</td>\n",
       "      <td>26</td>\n",
       "      <td>2014-01-01</td>\n",
       "    </tr>\n",
       "    <tr>\n",
       "      <th>2</th>\n",
       "      <td>Arizona</td>\n",
       "      <td>303.31</td>\n",
       "      <td>1941</td>\n",
       "      <td>209.35</td>\n",
       "      <td>1625</td>\n",
       "      <td>189.45</td>\n",
       "      <td>222</td>\n",
       "      <td>2014-01-01</td>\n",
       "    </tr>\n",
       "    <tr>\n",
       "      <th>3</th>\n",
       "      <td>Arkansas</td>\n",
       "      <td>361.85</td>\n",
       "      <td>576</td>\n",
       "      <td>185.62</td>\n",
       "      <td>544</td>\n",
       "      <td>125.87</td>\n",
       "      <td>112</td>\n",
       "      <td>2014-01-01</td>\n",
       "    </tr>\n",
       "    <tr>\n",
       "      <th>4</th>\n",
       "      <td>California</td>\n",
       "      <td>248.78</td>\n",
       "      <td>12096</td>\n",
       "      <td>193.56</td>\n",
       "      <td>12812</td>\n",
       "      <td>192.92</td>\n",
       "      <td>778</td>\n",
       "      <td>2014-01-01</td>\n",
       "    </tr>\n",
       "  </tbody>\n",
       "</table>\n",
       "</div>"
      ],
      "text/plain": [
       "        State   HighQ  HighQN    MedQ  MedQN    LowQ  LowQN       date\n",
       "0     Alabama  339.06    1042  198.64    933  149.49    123 2014-01-01\n",
       "1      Alaska  288.75     252  260.60    297  388.58     26 2014-01-01\n",
       "2     Arizona  303.31    1941  209.35   1625  189.45    222 2014-01-01\n",
       "3    Arkansas  361.85     576  185.62    544  125.87    112 2014-01-01\n",
       "4  California  248.78   12096  193.56  12812  192.92    778 2014-01-01"
      ]
     },
     "execution_count": 32,
     "metadata": {},
     "output_type": "execute_result"
    }
   ],
   "source": [
    "weed_pd = pd.read_csv(\"../data/Weed_Price.csv\", parse_dates=[-1])\n",
    "weed_pd.head()"
   ]
  },
  {
   "cell_type": "markdown",
   "metadata": {},
   "source": [
    "* Parse the `date` column to create two new columns: one for `month` and one for `year`."
   ]
  },
  {
   "cell_type": "code",
   "execution_count": 33,
   "metadata": {},
   "outputs": [],
   "source": [
    "#Complete the code below\n",
    "\n",
    "weed_pd[\"year\"] = weed_pd[\"date\"].apply(lambda x: x.year) \n",
    "weed_pd[\"month\"] = weed_pd[\"date\"].apply(lambda x: x.month) "
   ]
  },
  {
   "cell_type": "code",
   "execution_count": 34,
   "metadata": {},
   "outputs": [
    {
     "data": {
      "text/html": [
       "<div>\n",
       "<style scoped>\n",
       "    .dataframe tbody tr th:only-of-type {\n",
       "        vertical-align: middle;\n",
       "    }\n",
       "\n",
       "    .dataframe tbody tr th {\n",
       "        vertical-align: top;\n",
       "    }\n",
       "\n",
       "    .dataframe thead th {\n",
       "        text-align: right;\n",
       "    }\n",
       "</style>\n",
       "<table border=\"1\" class=\"dataframe\">\n",
       "  <thead>\n",
       "    <tr style=\"text-align: right;\">\n",
       "      <th></th>\n",
       "      <th>State</th>\n",
       "      <th>HighQ</th>\n",
       "      <th>HighQN</th>\n",
       "      <th>MedQ</th>\n",
       "      <th>MedQN</th>\n",
       "      <th>LowQ</th>\n",
       "      <th>LowQN</th>\n",
       "      <th>date</th>\n",
       "      <th>year</th>\n",
       "      <th>month</th>\n",
       "    </tr>\n",
       "  </thead>\n",
       "  <tbody>\n",
       "    <tr>\n",
       "      <th>0</th>\n",
       "      <td>Alabama</td>\n",
       "      <td>339.06</td>\n",
       "      <td>1042</td>\n",
       "      <td>198.64</td>\n",
       "      <td>933</td>\n",
       "      <td>149.49</td>\n",
       "      <td>123</td>\n",
       "      <td>2014-01-01</td>\n",
       "      <td>2014</td>\n",
       "      <td>1</td>\n",
       "    </tr>\n",
       "    <tr>\n",
       "      <th>1</th>\n",
       "      <td>Alaska</td>\n",
       "      <td>288.75</td>\n",
       "      <td>252</td>\n",
       "      <td>260.60</td>\n",
       "      <td>297</td>\n",
       "      <td>388.58</td>\n",
       "      <td>26</td>\n",
       "      <td>2014-01-01</td>\n",
       "      <td>2014</td>\n",
       "      <td>1</td>\n",
       "    </tr>\n",
       "    <tr>\n",
       "      <th>2</th>\n",
       "      <td>Arizona</td>\n",
       "      <td>303.31</td>\n",
       "      <td>1941</td>\n",
       "      <td>209.35</td>\n",
       "      <td>1625</td>\n",
       "      <td>189.45</td>\n",
       "      <td>222</td>\n",
       "      <td>2014-01-01</td>\n",
       "      <td>2014</td>\n",
       "      <td>1</td>\n",
       "    </tr>\n",
       "    <tr>\n",
       "      <th>3</th>\n",
       "      <td>Arkansas</td>\n",
       "      <td>361.85</td>\n",
       "      <td>576</td>\n",
       "      <td>185.62</td>\n",
       "      <td>544</td>\n",
       "      <td>125.87</td>\n",
       "      <td>112</td>\n",
       "      <td>2014-01-01</td>\n",
       "      <td>2014</td>\n",
       "      <td>1</td>\n",
       "    </tr>\n",
       "    <tr>\n",
       "      <th>4</th>\n",
       "      <td>California</td>\n",
       "      <td>248.78</td>\n",
       "      <td>12096</td>\n",
       "      <td>193.56</td>\n",
       "      <td>12812</td>\n",
       "      <td>192.92</td>\n",
       "      <td>778</td>\n",
       "      <td>2014-01-01</td>\n",
       "      <td>2014</td>\n",
       "      <td>1</td>\n",
       "    </tr>\n",
       "  </tbody>\n",
       "</table>\n",
       "</div>"
      ],
      "text/plain": [
       "        State   HighQ  HighQN    MedQ  MedQN    LowQ  LowQN       date  year  \\\n",
       "0     Alabama  339.06    1042  198.64    933  149.49    123 2014-01-01  2014   \n",
       "1      Alaska  288.75     252  260.60    297  388.58     26 2014-01-01  2014   \n",
       "2     Arizona  303.31    1941  209.35   1625  189.45    222 2014-01-01  2014   \n",
       "3    Arkansas  361.85     576  185.62    544  125.87    112 2014-01-01  2014   \n",
       "4  California  248.78   12096  193.56  12812  192.92    778 2014-01-01  2014   \n",
       "\n",
       "   month  \n",
       "0      1  \n",
       "1      1  \n",
       "2      1  \n",
       "3      1  \n",
       "4      1  "
      ]
     },
     "execution_count": 34,
     "metadata": {},
     "output_type": "execute_result"
    }
   ],
   "source": [
    "weed_pd.head()"
   ]
  },
  {
   "cell_type": "markdown",
   "metadata": {},
   "source": [
    "### Let's work on weed prices in California in 2014\n"
   ]
  },
  {
   "cell_type": "markdown",
   "metadata": {},
   "source": [
    "* Parse the `weed_pd` DataFrame so that it contains only entries for California from 2014."
   ]
  },
  {
   "cell_type": "code",
   "execution_count": 35,
   "metadata": {},
   "outputs": [
    {
     "name": "stdout",
     "output_type": "stream",
     "text": [
      "            State   HighQ  HighQN    MedQ  MedQN    LowQ  LowQN       date  \\\n",
      "4      California  248.78   12096  193.56  12812  192.92    778 2014-01-01   \n",
      "106    California  248.20   12571  192.80  13406  191.94    804 2014-02-01   \n",
      "208    California  247.60   12988  192.97  13906  191.40    839 2014-03-01   \n",
      "259    California  246.76   13396  192.91  14527  191.98    863 2014-04-01   \n",
      "310    California  246.04   13787  191.89  15047  191.40    891 2014-05-01   \n",
      "...           ...     ...     ...     ...    ...     ...    ...        ...   \n",
      "22546  California  245.68   14157  192.26  15561  190.01    929 2014-05-31   \n",
      "22648  California  245.39   14928  191.61  16635  188.12    975 2014-07-31   \n",
      "22699  California  245.11   15234  191.36  17049     NaN    995 2014-08-31   \n",
      "22750  California  245.13   15667  191.03  17758     NaN   1023 2014-10-31   \n",
      "22852  California  243.96   16501  189.38  19140     NaN   1094 2014-12-31   \n",
      "\n",
      "       year  month  \n",
      "4      2014      1  \n",
      "106    2014      2  \n",
      "208    2014      3  \n",
      "259    2014      4  \n",
      "310    2014      5  \n",
      "...     ...    ...  \n",
      "22546  2014      5  \n",
      "22648  2014      7  \n",
      "22699  2014      8  \n",
      "22750  2014     10  \n",
      "22852  2014     12  \n",
      "\n",
      "[364 rows x 10 columns]\n"
     ]
    }
   ],
   "source": [
    "\n",
    "weed_ca_2014 = weed_pd[(weed_pd.State==\"California\") & (weed_pd.year==2014)]\n",
    "print(weed_ca_2014)"
   ]
  },
  {
   "cell_type": "code",
   "execution_count": 45,
   "metadata": {},
   "outputs": [
    {
     "name": "stdout",
     "output_type": "stream",
     "text": [
      "['California']\n",
      "[2014]\n"
     ]
    }
   ],
   "source": [
    "print(weed_ca_2014['State'].unique())\n",
    "print(weed_ca_2014['year'].unique())"
   ]
  },
  {
   "cell_type": "markdown",
   "metadata": {},
   "source": [
    "* Find the mean and standard deviation of high quality weed's price."
   ]
  },
  {
   "cell_type": "code",
   "execution_count": 46,
   "metadata": {},
   "outputs": [],
   "source": [
    "#print(\"Mean:\", _________ )\n",
    "#print(\"Standard Deviation:\", _________ )"
   ]
  },
  {
   "cell_type": "code",
   "execution_count": 47,
   "metadata": {},
   "outputs": [
    {
     "data": {
      "text/plain": [
       "245.89423076923077"
      ]
     },
     "execution_count": 47,
     "metadata": {},
     "output_type": "execute_result"
    }
   ],
   "source": [
    "np.mean(weed_ca_2014)['HighQ']"
   ]
  },
  {
   "cell_type": "code",
   "execution_count": 39,
   "metadata": {},
   "outputs": [
    {
     "data": {
      "text/plain": [
       "1.2899079393714108"
      ]
     },
     "execution_count": 39,
     "metadata": {},
     "output_type": "execute_result"
    }
   ],
   "source": [
    "np.std(weed_ca_2014['HighQ'], ddof=1)"
   ]
  },
  {
   "cell_type": "markdown",
   "metadata": {},
   "source": [
    "* Calculate the 95% confidence interval on the mean."
   ]
  },
  {
   "cell_type": "code",
   "execution_count": 40,
   "metadata": {
    "collapsed": true,
    "jupyter": {
     "outputs_hidden": true
    }
   },
   "outputs": [
    {
     "data": {
      "text/plain": [
       "\u001b[1;31mSignature:\u001b[0m \u001b[0mstats\u001b[0m\u001b[1;33m.\u001b[0m\u001b[0mnorm\u001b[0m\u001b[1;33m.\u001b[0m\u001b[0minterval\u001b[0m\u001b[1;33m(\u001b[0m\u001b[0malpha\u001b[0m\u001b[1;33m,\u001b[0m \u001b[1;33m*\u001b[0m\u001b[0margs\u001b[0m\u001b[1;33m,\u001b[0m \u001b[1;33m**\u001b[0m\u001b[0mkwds\u001b[0m\u001b[1;33m)\u001b[0m\u001b[1;33m\u001b[0m\u001b[1;33m\u001b[0m\u001b[0m\n",
       "\u001b[1;31mDocstring:\u001b[0m\n",
       "Confidence interval with equal areas around the median.\n",
       "\n",
       "Parameters\n",
       "----------\n",
       "alpha : array_like of float\n",
       "    Probability that an rv will be drawn from the returned range.\n",
       "    Each value should be in the range [0, 1].\n",
       "arg1, arg2, ... : array_like\n",
       "    The shape parameter(s) for the distribution (see docstring of the\n",
       "    instance object for more information).\n",
       "loc : array_like, optional\n",
       "    location parameter, Default is 0.\n",
       "scale : array_like, optional\n",
       "    scale parameter, Default is 1.\n",
       "\n",
       "Returns\n",
       "-------\n",
       "a, b : ndarray of float\n",
       "    end-points of range that contain ``100 * alpha %`` of the rv's\n",
       "    possible values.\n",
       "\u001b[1;31mFile:\u001b[0m      c:\\users\\ngkno\\appdata\\local\\programs\\python\\python38\\lib\\site-packages\\scipy\\stats\\_distn_infrastructure.py\n",
       "\u001b[1;31mType:\u001b[0m      method\n"
      ]
     },
     "metadata": {},
     "output_type": "display_data"
    }
   ],
   "source": [
    "stats.norm.interval?"
   ]
  },
  {
   "cell_type": "code",
   "execution_count": 71,
   "metadata": {},
   "outputs": [],
   "source": [
    "stats.norm.interval=95"
   ]
  },
  {
   "cell_type": "code",
   "execution_count": 72,
   "metadata": {},
   "outputs": [
    {
     "ename": "NameError",
     "evalue": "name '_95__' is not defined",
     "output_type": "error",
     "traceback": [
      "\u001b[1;31m---------------------------------------------------------------------------\u001b[0m",
      "\u001b[1;31mNameError\u001b[0m                                 Traceback (most recent call last)",
      "\u001b[1;32m<ipython-input-72-9ece201e0f68>\u001b[0m in \u001b[0;36m<module>\u001b[1;34m\u001b[0m\n\u001b[1;32m----> 1\u001b[1;33m \u001b[0mstats\u001b[0m\u001b[1;33m.\u001b[0m\u001b[0mnorm\u001b[0m\u001b[1;33m.\u001b[0m\u001b[0minterval\u001b[0m\u001b[1;33m(\u001b[0m\u001b[0m_95__\u001b[0m \u001b[1;33m,\u001b[0m \u001b[0mloc\u001b[0m\u001b[1;33m=\u001b[0m \u001b[0m____245____\u001b[0m \u001b[1;33m,\u001b[0m \u001b[0mscale\u001b[0m \u001b[1;33m=\u001b[0m \u001b[0mweed_ca_2014\u001b[0m\u001b[1;33m.\u001b[0m\u001b[0mHighQ\u001b[0m\u001b[1;33m.\u001b[0m\u001b[0mstd\u001b[0m\u001b[1;33m(\u001b[0m\u001b[1;33m)\u001b[0m\u001b[1;33m/\u001b[0m\u001b[0mnp\u001b[0m\u001b[1;33m.\u001b[0m\u001b[0msqrt\u001b[0m\u001b[1;33m(\u001b[0m\u001b[0mlen\u001b[0m\u001b[1;33m(\u001b[0m\u001b[0mweed_ca_2014\u001b[0m\u001b[1;33m)\u001b[0m\u001b[1;33m)\u001b[0m\u001b[1;33m)\u001b[0m\u001b[1;33m\u001b[0m\u001b[1;33m\u001b[0m\u001b[0m\n\u001b[0m",
      "\u001b[1;31mNameError\u001b[0m: name '_95__' is not defined"
     ]
    }
   ],
   "source": [
    "stats.norm.interval(_95__ , loc= ____245____ , scale = weed_ca_2014.HighQ.std()/np.sqrt(len(weed_ca_2014)))"
   ]
  },
  {
   "cell_type": "code",
   "execution_count": 42,
   "metadata": {},
   "outputs": [
    {
     "ename": "NameError",
     "evalue": "name '_95__' is not defined",
     "output_type": "error",
     "traceback": [
      "\u001b[1;31m---------------------------------------------------------------------------\u001b[0m",
      "\u001b[1;31mNameError\u001b[0m                                 Traceback (most recent call last)",
      "\u001b[1;32m<ipython-input-42-265faa39fb4c>\u001b[0m in \u001b[0;36m<module>\u001b[1;34m\u001b[0m\n\u001b[1;32m----> 1\u001b[1;33m \u001b[0mstats\u001b[0m\u001b[1;33m.\u001b[0m\u001b[0mnorm\u001b[0m\u001b[1;33m.\u001b[0m\u001b[0minterval\u001b[0m\u001b[1;33m(\u001b[0m\u001b[0m_95__\u001b[0m \u001b[1;33m,\u001b[0m \u001b[0mloc\u001b[0m\u001b[1;33m=\u001b[0m \u001b[0m___245_____\u001b[0m \u001b[1;33m,\u001b[0m \u001b[0mscale\u001b[0m \u001b[1;33m=\u001b[0m \u001b[0mweed_ca_2014\u001b[0m\u001b[1;33m.\u001b[0m\u001b[0mHighQ\u001b[0m\u001b[1;33m.\u001b[0m\u001b[0mstd\u001b[0m\u001b[1;33m(\u001b[0m\u001b[1;33m)\u001b[0m\u001b[1;33m/\u001b[0m\u001b[0mnp\u001b[0m\u001b[1;33m.\u001b[0m\u001b[0msqrt\u001b[0m\u001b[1;33m(\u001b[0m\u001b[0mlen\u001b[0m\u001b[1;33m(\u001b[0m\u001b[0mweed_ca_2014\u001b[0m\u001b[1;33m)\u001b[0m\u001b[1;33m)\u001b[0m\u001b[1;33m)\u001b[0m\u001b[1;33m\u001b[0m\u001b[1;33m\u001b[0m\u001b[0m\n\u001b[0m",
      "\u001b[1;31mNameError\u001b[0m: name '_95__' is not defined"
     ]
    }
   ],
   "source": [
    "stats.norm.interval(_95__ , loc= ___245_____ , scale = weed_ca_2014.HighQ.std()/np.sqrt(len(weed_ca_2014)))"
   ]
  },
  {
   "cell_type": "markdown",
   "metadata": {},
   "source": [
    "### Question: Are high-quality weed prices in Jan 2014 significantly higher than in Jan 2015?"
   ]
  },
  {
   "cell_type": "markdown",
   "metadata": {},
   "source": [
    "* Make two `numpy` arrays by subetting the original DataFrame: each array should list the `HighQ` entries for California in January of 2014 and 2015."
   ]
  },
  {
   "cell_type": "code",
   "execution_count": 53,
   "metadata": {
    "collapsed": true,
    "jupyter": {
     "outputs_hidden": true
    }
   },
   "outputs": [
    {
     "name": "stdout",
     "output_type": "stream",
     "text": [
      "            State   HighQ  HighQN    MedQ  MedQN    LowQ  LowQN       date  \\\n",
      "4      California  248.78   12096  193.56  12812  192.92    778 2014-01-01   \n",
      "769    California  248.67   12125  193.56  12836  192.80    779 2014-01-02   \n",
      "1483   California  248.67   12141  193.57  12853  192.67    782 2014-01-03   \n",
      "2248   California  248.65   12155  193.59  12884  192.67    782 2014-01-04   \n",
      "3013   California  248.68   12176  193.63  12902  192.67    782 2014-01-05   \n",
      "3778   California  248.68   12189  193.57  12918  192.79    783 2014-01-06   \n",
      "4543   California  248.64   12212  193.51  12945  192.91    784 2014-01-07   \n",
      "5308   California  248.63   12243  193.53  12955  192.91    784 2014-01-08   \n",
      "6073   California  248.58   12256  193.54  12980  192.89    785 2014-01-09   \n",
      "6838   California  248.56   12270  193.50  13001  192.67    786 2014-01-10   \n",
      "7654   California  248.54   12278  193.50  13013  192.67    786 2014-01-11   \n",
      "8470   California  248.47   12289  193.51  13025  192.88    788 2014-01-12   \n",
      "9235   California  248.45   12301  193.46  13039  192.88    788 2014-01-13   \n",
      "10000  California  248.41   12312  193.39  13059  192.88    788 2014-01-14   \n",
      "10765  California  248.48   12326  193.38  13080  192.88    789 2014-01-15   \n",
      "11530  California  248.44   12341  193.29  13097  192.88    789 2014-01-16   \n",
      "12295  California  248.43   12357  193.23  13118  192.88    789 2014-01-17   \n",
      "13009  California  248.49   12372  193.20  13134  192.89    790 2014-01-18   \n",
      "13723  California  248.44   12386  193.20  13144  192.89    790 2014-01-19   \n",
      "14437  California  248.39   12394  193.19  13164  192.89    790 2014-01-20   \n",
      "15151  California  248.33   12408  193.21  13187  192.71    791 2014-01-21   \n",
      "15865  California  248.28   12424  193.20  13203  192.71    791 2014-01-22   \n",
      "16579  California  248.25   12434  193.18  13222  192.71    791 2014-01-23   \n",
      "17293  California  248.22   12445  193.13  13247  192.71    791 2014-01-24   \n",
      "18007  California  248.18   12460  193.05  13270  192.35    797 2014-01-25   \n",
      "18721  California  248.21   12476  192.98  13290  192.25    798 2014-01-26   \n",
      "19435  California  248.24   12486  192.98  13307  192.25    798 2014-01-27   \n",
      "20200  California  248.28   12513  193.01  13339  191.96    800 2014-01-28   \n",
      "20965  California  248.23   12530  192.91  13355  192.24    802 2014-01-29   \n",
      "21679  California  248.28   12544  192.86  13374  192.01    803 2014-01-30   \n",
      "22393  California  248.23   12559  192.82  13391  191.94    804 2014-01-31   \n",
      "\n",
      "       year  month  \n",
      "4      2014      1  \n",
      "769    2014      1  \n",
      "1483   2014      1  \n",
      "2248   2014      1  \n",
      "3013   2014      1  \n",
      "3778   2014      1  \n",
      "4543   2014      1  \n",
      "5308   2014      1  \n",
      "6073   2014      1  \n",
      "6838   2014      1  \n",
      "7654   2014      1  \n",
      "8470   2014      1  \n",
      "9235   2014      1  \n",
      "10000  2014      1  \n",
      "10765  2014      1  \n",
      "11530  2014      1  \n",
      "12295  2014      1  \n",
      "13009  2014      1  \n",
      "13723  2014      1  \n",
      "14437  2014      1  \n",
      "15151  2014      1  \n",
      "15865  2014      1  \n",
      "16579  2014      1  \n",
      "17293  2014      1  \n",
      "18007  2014      1  \n",
      "18721  2014      1  \n",
      "19435  2014      1  \n",
      "20200  2014      1  \n",
      "20965  2014      1  \n",
      "21679  2014      1  \n",
      "22393  2014      1  \n"
     ]
    }
   ],
   "source": [
    "#Get the data\n",
    "#weed_ca_jan2014\n",
    "weed_ca_jan2014 = weed_ca_2014 [(weed_ca_2014.State==\"California\") & (weed_ca_2014.year==2014) & (weed_ca_2014.month==1)]\n",
    "print(weed_ca_jan2014)\n"
   ]
  },
  {
   "cell_type": "code",
   "execution_count": 56,
   "metadata": {},
   "outputs": [],
   "source": [
    "weed_ca_2015 = weed_pd[(weed_pd.State==\"California\") & (weed_pd.year==2015)]"
   ]
  },
  {
   "cell_type": "code",
   "execution_count": 57,
   "metadata": {
    "collapsed": true,
    "jupyter": {
     "outputs_hidden": true
    }
   },
   "outputs": [
    {
     "name": "stdout",
     "output_type": "stream",
     "text": [
      "            State   HighQ  HighQN    MedQ  MedQN  LowQ  LowQN       date  \\\n",
      "55     California  243.96   16512  189.35  19151   NaN   1096 2015-01-01   \n",
      "820    California  243.95   16517  189.34  19160   NaN   1096 2015-01-02   \n",
      "1534   California  243.93   16530  189.38  19179   NaN   1096 2015-01-03   \n",
      "2299   California  243.91   16542  189.38  19193   NaN   1099 2015-01-04   \n",
      "3064   California  243.91   16558  189.39  19222   NaN   1100 2015-01-05   \n",
      "3829   California  243.83   16571  189.37  19243   NaN   1102 2015-01-06   \n",
      "4594   California  243.79   16582  189.31  19274   NaN   1103 2015-01-07   \n",
      "5359   California  243.79   16592  189.26  19296   NaN   1104 2015-01-08   \n",
      "6124   California  243.72   16606  189.25  19327   NaN   1104 2015-01-09   \n",
      "6889   California  243.75   16622  189.21  19343   NaN   1104 2015-01-10   \n",
      "7705   California  243.73   16637  189.19  19358   NaN   1104 2015-01-11   \n",
      "8521   California  243.68   16646  189.21  19378   NaN   1106 2015-01-12   \n",
      "9286   California  243.66   16654  189.22  19398   NaN   1106 2015-01-13   \n",
      "10051  California  243.60   16664  189.19  19416   NaN   1109 2015-01-14   \n",
      "10816  California  243.58   16676  189.16  19432   NaN   1110 2015-01-15   \n",
      "11581  California  243.58   16693  189.11  19453   NaN   1111 2015-01-16   \n",
      "12346  California  243.53   16711  189.12  19472   NaN   1113 2015-01-17   \n",
      "13060  California  243.49   16723  189.16  19498   NaN   1113 2015-01-18   \n",
      "13774  California  243.50   16731  189.14  19513   NaN   1113 2015-01-19   \n",
      "14488  California  243.48   16746  189.13  19528   NaN   1114 2015-01-20   \n",
      "15202  California  243.51   16761  189.08  19551   NaN   1115 2015-01-21   \n",
      "15916  California  243.45   16778  189.09  19573   NaN   1115 2015-01-22   \n",
      "16630  California  243.43   16784  189.09  19595   NaN   1116 2015-01-23   \n",
      "17344  California  243.47   16799  189.03  19619   NaN   1116 2015-01-24   \n",
      "18058  California  243.46   16808  188.97  19636   NaN   1117 2015-01-25   \n",
      "18772  California  243.42   16819  188.98  19656   NaN   1117 2015-01-26   \n",
      "19486  California  243.40   16838  189.01  19673   NaN   1117 2015-01-27   \n",
      "20251  California  243.34   16854  189.01  19688   NaN   1118 2015-01-28   \n",
      "21016  California  243.27   16870  188.96  19708   NaN   1120 2015-01-29   \n",
      "21730  California  243.28   16882  188.96  19735   NaN   1121 2015-01-30   \n",
      "22444  California  243.27   16896  188.94  19752   NaN   1122 2015-01-31   \n",
      "\n",
      "       year  month  \n",
      "55     2015      1  \n",
      "820    2015      1  \n",
      "1534   2015      1  \n",
      "2299   2015      1  \n",
      "3064   2015      1  \n",
      "3829   2015      1  \n",
      "4594   2015      1  \n",
      "5359   2015      1  \n",
      "6124   2015      1  \n",
      "6889   2015      1  \n",
      "7705   2015      1  \n",
      "8521   2015      1  \n",
      "9286   2015      1  \n",
      "10051  2015      1  \n",
      "10816  2015      1  \n",
      "11581  2015      1  \n",
      "12346  2015      1  \n",
      "13060  2015      1  \n",
      "13774  2015      1  \n",
      "14488  2015      1  \n",
      "15202  2015      1  \n",
      "15916  2015      1  \n",
      "16630  2015      1  \n",
      "17344  2015      1  \n",
      "18058  2015      1  \n",
      "18772  2015      1  \n",
      "19486  2015      1  \n",
      "20251  2015      1  \n",
      "21016  2015      1  \n",
      "21730  2015      1  \n",
      "22444  2015      1  \n"
     ]
    }
   ],
   "source": [
    "#weed_ca_jan2015 = \n",
    "weed_ca_jan2015 = weed_ca_2015 [(weed_ca_2015.State==\"California\") & (weed_ca_2015.year==2015) & (weed_ca_2015.month==1)]\n",
    "print(weed_ca_jan2015)"
   ]
  },
  {
   "cell_type": "code",
   "execution_count": 59,
   "metadata": {
    "collapsed": true,
    "jupyter": {
     "outputs_hidden": true
    }
   },
   "outputs": [
    {
     "data": {
      "text/html": [
       "<div>\n",
       "<style scoped>\n",
       "    .dataframe tbody tr th:only-of-type {\n",
       "        vertical-align: middle;\n",
       "    }\n",
       "\n",
       "    .dataframe tbody tr th {\n",
       "        vertical-align: top;\n",
       "    }\n",
       "\n",
       "    .dataframe thead th {\n",
       "        text-align: right;\n",
       "    }\n",
       "</style>\n",
       "<table border=\"1\" class=\"dataframe\">\n",
       "  <thead>\n",
       "    <tr style=\"text-align: right;\">\n",
       "      <th></th>\n",
       "      <th>State</th>\n",
       "      <th>HighQ</th>\n",
       "      <th>HighQN</th>\n",
       "      <th>MedQ</th>\n",
       "      <th>MedQN</th>\n",
       "      <th>LowQ</th>\n",
       "      <th>LowQN</th>\n",
       "      <th>date</th>\n",
       "      <th>year</th>\n",
       "      <th>month</th>\n",
       "    </tr>\n",
       "  </thead>\n",
       "  <tbody>\n",
       "    <tr>\n",
       "      <th>4</th>\n",
       "      <td>California</td>\n",
       "      <td>248.78</td>\n",
       "      <td>12096</td>\n",
       "      <td>193.56</td>\n",
       "      <td>12812</td>\n",
       "      <td>192.92</td>\n",
       "      <td>778</td>\n",
       "      <td>2014-01-01</td>\n",
       "      <td>2014</td>\n",
       "      <td>1</td>\n",
       "    </tr>\n",
       "    <tr>\n",
       "      <th>769</th>\n",
       "      <td>California</td>\n",
       "      <td>248.67</td>\n",
       "      <td>12125</td>\n",
       "      <td>193.56</td>\n",
       "      <td>12836</td>\n",
       "      <td>192.80</td>\n",
       "      <td>779</td>\n",
       "      <td>2014-01-02</td>\n",
       "      <td>2014</td>\n",
       "      <td>1</td>\n",
       "    </tr>\n",
       "    <tr>\n",
       "      <th>1483</th>\n",
       "      <td>California</td>\n",
       "      <td>248.67</td>\n",
       "      <td>12141</td>\n",
       "      <td>193.57</td>\n",
       "      <td>12853</td>\n",
       "      <td>192.67</td>\n",
       "      <td>782</td>\n",
       "      <td>2014-01-03</td>\n",
       "      <td>2014</td>\n",
       "      <td>1</td>\n",
       "    </tr>\n",
       "    <tr>\n",
       "      <th>2248</th>\n",
       "      <td>California</td>\n",
       "      <td>248.65</td>\n",
       "      <td>12155</td>\n",
       "      <td>193.59</td>\n",
       "      <td>12884</td>\n",
       "      <td>192.67</td>\n",
       "      <td>782</td>\n",
       "      <td>2014-01-04</td>\n",
       "      <td>2014</td>\n",
       "      <td>1</td>\n",
       "    </tr>\n",
       "    <tr>\n",
       "      <th>3013</th>\n",
       "      <td>California</td>\n",
       "      <td>248.68</td>\n",
       "      <td>12176</td>\n",
       "      <td>193.63</td>\n",
       "      <td>12902</td>\n",
       "      <td>192.67</td>\n",
       "      <td>782</td>\n",
       "      <td>2014-01-05</td>\n",
       "      <td>2014</td>\n",
       "      <td>1</td>\n",
       "    </tr>\n",
       "    <tr>\n",
       "      <th>3778</th>\n",
       "      <td>California</td>\n",
       "      <td>248.68</td>\n",
       "      <td>12189</td>\n",
       "      <td>193.57</td>\n",
       "      <td>12918</td>\n",
       "      <td>192.79</td>\n",
       "      <td>783</td>\n",
       "      <td>2014-01-06</td>\n",
       "      <td>2014</td>\n",
       "      <td>1</td>\n",
       "    </tr>\n",
       "    <tr>\n",
       "      <th>4543</th>\n",
       "      <td>California</td>\n",
       "      <td>248.64</td>\n",
       "      <td>12212</td>\n",
       "      <td>193.51</td>\n",
       "      <td>12945</td>\n",
       "      <td>192.91</td>\n",
       "      <td>784</td>\n",
       "      <td>2014-01-07</td>\n",
       "      <td>2014</td>\n",
       "      <td>1</td>\n",
       "    </tr>\n",
       "    <tr>\n",
       "      <th>5308</th>\n",
       "      <td>California</td>\n",
       "      <td>248.63</td>\n",
       "      <td>12243</td>\n",
       "      <td>193.53</td>\n",
       "      <td>12955</td>\n",
       "      <td>192.91</td>\n",
       "      <td>784</td>\n",
       "      <td>2014-01-08</td>\n",
       "      <td>2014</td>\n",
       "      <td>1</td>\n",
       "    </tr>\n",
       "    <tr>\n",
       "      <th>6073</th>\n",
       "      <td>California</td>\n",
       "      <td>248.58</td>\n",
       "      <td>12256</td>\n",
       "      <td>193.54</td>\n",
       "      <td>12980</td>\n",
       "      <td>192.89</td>\n",
       "      <td>785</td>\n",
       "      <td>2014-01-09</td>\n",
       "      <td>2014</td>\n",
       "      <td>1</td>\n",
       "    </tr>\n",
       "    <tr>\n",
       "      <th>6838</th>\n",
       "      <td>California</td>\n",
       "      <td>248.56</td>\n",
       "      <td>12270</td>\n",
       "      <td>193.50</td>\n",
       "      <td>13001</td>\n",
       "      <td>192.67</td>\n",
       "      <td>786</td>\n",
       "      <td>2014-01-10</td>\n",
       "      <td>2014</td>\n",
       "      <td>1</td>\n",
       "    </tr>\n",
       "    <tr>\n",
       "      <th>7654</th>\n",
       "      <td>California</td>\n",
       "      <td>248.54</td>\n",
       "      <td>12278</td>\n",
       "      <td>193.50</td>\n",
       "      <td>13013</td>\n",
       "      <td>192.67</td>\n",
       "      <td>786</td>\n",
       "      <td>2014-01-11</td>\n",
       "      <td>2014</td>\n",
       "      <td>1</td>\n",
       "    </tr>\n",
       "    <tr>\n",
       "      <th>8470</th>\n",
       "      <td>California</td>\n",
       "      <td>248.47</td>\n",
       "      <td>12289</td>\n",
       "      <td>193.51</td>\n",
       "      <td>13025</td>\n",
       "      <td>192.88</td>\n",
       "      <td>788</td>\n",
       "      <td>2014-01-12</td>\n",
       "      <td>2014</td>\n",
       "      <td>1</td>\n",
       "    </tr>\n",
       "    <tr>\n",
       "      <th>9235</th>\n",
       "      <td>California</td>\n",
       "      <td>248.45</td>\n",
       "      <td>12301</td>\n",
       "      <td>193.46</td>\n",
       "      <td>13039</td>\n",
       "      <td>192.88</td>\n",
       "      <td>788</td>\n",
       "      <td>2014-01-13</td>\n",
       "      <td>2014</td>\n",
       "      <td>1</td>\n",
       "    </tr>\n",
       "    <tr>\n",
       "      <th>10000</th>\n",
       "      <td>California</td>\n",
       "      <td>248.41</td>\n",
       "      <td>12312</td>\n",
       "      <td>193.39</td>\n",
       "      <td>13059</td>\n",
       "      <td>192.88</td>\n",
       "      <td>788</td>\n",
       "      <td>2014-01-14</td>\n",
       "      <td>2014</td>\n",
       "      <td>1</td>\n",
       "    </tr>\n",
       "    <tr>\n",
       "      <th>10765</th>\n",
       "      <td>California</td>\n",
       "      <td>248.48</td>\n",
       "      <td>12326</td>\n",
       "      <td>193.38</td>\n",
       "      <td>13080</td>\n",
       "      <td>192.88</td>\n",
       "      <td>789</td>\n",
       "      <td>2014-01-15</td>\n",
       "      <td>2014</td>\n",
       "      <td>1</td>\n",
       "    </tr>\n",
       "    <tr>\n",
       "      <th>11530</th>\n",
       "      <td>California</td>\n",
       "      <td>248.44</td>\n",
       "      <td>12341</td>\n",
       "      <td>193.29</td>\n",
       "      <td>13097</td>\n",
       "      <td>192.88</td>\n",
       "      <td>789</td>\n",
       "      <td>2014-01-16</td>\n",
       "      <td>2014</td>\n",
       "      <td>1</td>\n",
       "    </tr>\n",
       "    <tr>\n",
       "      <th>12295</th>\n",
       "      <td>California</td>\n",
       "      <td>248.43</td>\n",
       "      <td>12357</td>\n",
       "      <td>193.23</td>\n",
       "      <td>13118</td>\n",
       "      <td>192.88</td>\n",
       "      <td>789</td>\n",
       "      <td>2014-01-17</td>\n",
       "      <td>2014</td>\n",
       "      <td>1</td>\n",
       "    </tr>\n",
       "    <tr>\n",
       "      <th>13009</th>\n",
       "      <td>California</td>\n",
       "      <td>248.49</td>\n",
       "      <td>12372</td>\n",
       "      <td>193.20</td>\n",
       "      <td>13134</td>\n",
       "      <td>192.89</td>\n",
       "      <td>790</td>\n",
       "      <td>2014-01-18</td>\n",
       "      <td>2014</td>\n",
       "      <td>1</td>\n",
       "    </tr>\n",
       "    <tr>\n",
       "      <th>13723</th>\n",
       "      <td>California</td>\n",
       "      <td>248.44</td>\n",
       "      <td>12386</td>\n",
       "      <td>193.20</td>\n",
       "      <td>13144</td>\n",
       "      <td>192.89</td>\n",
       "      <td>790</td>\n",
       "      <td>2014-01-19</td>\n",
       "      <td>2014</td>\n",
       "      <td>1</td>\n",
       "    </tr>\n",
       "    <tr>\n",
       "      <th>14437</th>\n",
       "      <td>California</td>\n",
       "      <td>248.39</td>\n",
       "      <td>12394</td>\n",
       "      <td>193.19</td>\n",
       "      <td>13164</td>\n",
       "      <td>192.89</td>\n",
       "      <td>790</td>\n",
       "      <td>2014-01-20</td>\n",
       "      <td>2014</td>\n",
       "      <td>1</td>\n",
       "    </tr>\n",
       "    <tr>\n",
       "      <th>15151</th>\n",
       "      <td>California</td>\n",
       "      <td>248.33</td>\n",
       "      <td>12408</td>\n",
       "      <td>193.21</td>\n",
       "      <td>13187</td>\n",
       "      <td>192.71</td>\n",
       "      <td>791</td>\n",
       "      <td>2014-01-21</td>\n",
       "      <td>2014</td>\n",
       "      <td>1</td>\n",
       "    </tr>\n",
       "    <tr>\n",
       "      <th>15865</th>\n",
       "      <td>California</td>\n",
       "      <td>248.28</td>\n",
       "      <td>12424</td>\n",
       "      <td>193.20</td>\n",
       "      <td>13203</td>\n",
       "      <td>192.71</td>\n",
       "      <td>791</td>\n",
       "      <td>2014-01-22</td>\n",
       "      <td>2014</td>\n",
       "      <td>1</td>\n",
       "    </tr>\n",
       "    <tr>\n",
       "      <th>16579</th>\n",
       "      <td>California</td>\n",
       "      <td>248.25</td>\n",
       "      <td>12434</td>\n",
       "      <td>193.18</td>\n",
       "      <td>13222</td>\n",
       "      <td>192.71</td>\n",
       "      <td>791</td>\n",
       "      <td>2014-01-23</td>\n",
       "      <td>2014</td>\n",
       "      <td>1</td>\n",
       "    </tr>\n",
       "    <tr>\n",
       "      <th>17293</th>\n",
       "      <td>California</td>\n",
       "      <td>248.22</td>\n",
       "      <td>12445</td>\n",
       "      <td>193.13</td>\n",
       "      <td>13247</td>\n",
       "      <td>192.71</td>\n",
       "      <td>791</td>\n",
       "      <td>2014-01-24</td>\n",
       "      <td>2014</td>\n",
       "      <td>1</td>\n",
       "    </tr>\n",
       "    <tr>\n",
       "      <th>18007</th>\n",
       "      <td>California</td>\n",
       "      <td>248.18</td>\n",
       "      <td>12460</td>\n",
       "      <td>193.05</td>\n",
       "      <td>13270</td>\n",
       "      <td>192.35</td>\n",
       "      <td>797</td>\n",
       "      <td>2014-01-25</td>\n",
       "      <td>2014</td>\n",
       "      <td>1</td>\n",
       "    </tr>\n",
       "    <tr>\n",
       "      <th>18721</th>\n",
       "      <td>California</td>\n",
       "      <td>248.21</td>\n",
       "      <td>12476</td>\n",
       "      <td>192.98</td>\n",
       "      <td>13290</td>\n",
       "      <td>192.25</td>\n",
       "      <td>798</td>\n",
       "      <td>2014-01-26</td>\n",
       "      <td>2014</td>\n",
       "      <td>1</td>\n",
       "    </tr>\n",
       "    <tr>\n",
       "      <th>19435</th>\n",
       "      <td>California</td>\n",
       "      <td>248.24</td>\n",
       "      <td>12486</td>\n",
       "      <td>192.98</td>\n",
       "      <td>13307</td>\n",
       "      <td>192.25</td>\n",
       "      <td>798</td>\n",
       "      <td>2014-01-27</td>\n",
       "      <td>2014</td>\n",
       "      <td>1</td>\n",
       "    </tr>\n",
       "    <tr>\n",
       "      <th>20200</th>\n",
       "      <td>California</td>\n",
       "      <td>248.28</td>\n",
       "      <td>12513</td>\n",
       "      <td>193.01</td>\n",
       "      <td>13339</td>\n",
       "      <td>191.96</td>\n",
       "      <td>800</td>\n",
       "      <td>2014-01-28</td>\n",
       "      <td>2014</td>\n",
       "      <td>1</td>\n",
       "    </tr>\n",
       "    <tr>\n",
       "      <th>20965</th>\n",
       "      <td>California</td>\n",
       "      <td>248.23</td>\n",
       "      <td>12530</td>\n",
       "      <td>192.91</td>\n",
       "      <td>13355</td>\n",
       "      <td>192.24</td>\n",
       "      <td>802</td>\n",
       "      <td>2014-01-29</td>\n",
       "      <td>2014</td>\n",
       "      <td>1</td>\n",
       "    </tr>\n",
       "    <tr>\n",
       "      <th>21679</th>\n",
       "      <td>California</td>\n",
       "      <td>248.28</td>\n",
       "      <td>12544</td>\n",
       "      <td>192.86</td>\n",
       "      <td>13374</td>\n",
       "      <td>192.01</td>\n",
       "      <td>803</td>\n",
       "      <td>2014-01-30</td>\n",
       "      <td>2014</td>\n",
       "      <td>1</td>\n",
       "    </tr>\n",
       "    <tr>\n",
       "      <th>22393</th>\n",
       "      <td>California</td>\n",
       "      <td>248.23</td>\n",
       "      <td>12559</td>\n",
       "      <td>192.82</td>\n",
       "      <td>13391</td>\n",
       "      <td>191.94</td>\n",
       "      <td>804</td>\n",
       "      <td>2014-01-31</td>\n",
       "      <td>2014</td>\n",
       "      <td>1</td>\n",
       "    </tr>\n",
       "  </tbody>\n",
       "</table>\n",
       "</div>"
      ],
      "text/plain": [
       "            State   HighQ  HighQN    MedQ  MedQN    LowQ  LowQN       date  \\\n",
       "4      California  248.78   12096  193.56  12812  192.92    778 2014-01-01   \n",
       "769    California  248.67   12125  193.56  12836  192.80    779 2014-01-02   \n",
       "1483   California  248.67   12141  193.57  12853  192.67    782 2014-01-03   \n",
       "2248   California  248.65   12155  193.59  12884  192.67    782 2014-01-04   \n",
       "3013   California  248.68   12176  193.63  12902  192.67    782 2014-01-05   \n",
       "3778   California  248.68   12189  193.57  12918  192.79    783 2014-01-06   \n",
       "4543   California  248.64   12212  193.51  12945  192.91    784 2014-01-07   \n",
       "5308   California  248.63   12243  193.53  12955  192.91    784 2014-01-08   \n",
       "6073   California  248.58   12256  193.54  12980  192.89    785 2014-01-09   \n",
       "6838   California  248.56   12270  193.50  13001  192.67    786 2014-01-10   \n",
       "7654   California  248.54   12278  193.50  13013  192.67    786 2014-01-11   \n",
       "8470   California  248.47   12289  193.51  13025  192.88    788 2014-01-12   \n",
       "9235   California  248.45   12301  193.46  13039  192.88    788 2014-01-13   \n",
       "10000  California  248.41   12312  193.39  13059  192.88    788 2014-01-14   \n",
       "10765  California  248.48   12326  193.38  13080  192.88    789 2014-01-15   \n",
       "11530  California  248.44   12341  193.29  13097  192.88    789 2014-01-16   \n",
       "12295  California  248.43   12357  193.23  13118  192.88    789 2014-01-17   \n",
       "13009  California  248.49   12372  193.20  13134  192.89    790 2014-01-18   \n",
       "13723  California  248.44   12386  193.20  13144  192.89    790 2014-01-19   \n",
       "14437  California  248.39   12394  193.19  13164  192.89    790 2014-01-20   \n",
       "15151  California  248.33   12408  193.21  13187  192.71    791 2014-01-21   \n",
       "15865  California  248.28   12424  193.20  13203  192.71    791 2014-01-22   \n",
       "16579  California  248.25   12434  193.18  13222  192.71    791 2014-01-23   \n",
       "17293  California  248.22   12445  193.13  13247  192.71    791 2014-01-24   \n",
       "18007  California  248.18   12460  193.05  13270  192.35    797 2014-01-25   \n",
       "18721  California  248.21   12476  192.98  13290  192.25    798 2014-01-26   \n",
       "19435  California  248.24   12486  192.98  13307  192.25    798 2014-01-27   \n",
       "20200  California  248.28   12513  193.01  13339  191.96    800 2014-01-28   \n",
       "20965  California  248.23   12530  192.91  13355  192.24    802 2014-01-29   \n",
       "21679  California  248.28   12544  192.86  13374  192.01    803 2014-01-30   \n",
       "22393  California  248.23   12559  192.82  13391  191.94    804 2014-01-31   \n",
       "\n",
       "       year  month  \n",
       "4      2014      1  \n",
       "769    2014      1  \n",
       "1483   2014      1  \n",
       "2248   2014      1  \n",
       "3013   2014      1  \n",
       "3778   2014      1  \n",
       "4543   2014      1  \n",
       "5308   2014      1  \n",
       "6073   2014      1  \n",
       "6838   2014      1  \n",
       "7654   2014      1  \n",
       "8470   2014      1  \n",
       "9235   2014      1  \n",
       "10000  2014      1  \n",
       "10765  2014      1  \n",
       "11530  2014      1  \n",
       "12295  2014      1  \n",
       "13009  2014      1  \n",
       "13723  2014      1  \n",
       "14437  2014      1  \n",
       "15151  2014      1  \n",
       "15865  2014      1  \n",
       "16579  2014      1  \n",
       "17293  2014      1  \n",
       "18007  2014      1  \n",
       "18721  2014      1  \n",
       "19435  2014      1  \n",
       "20200  2014      1  \n",
       "20965  2014      1  \n",
       "21679  2014      1  \n",
       "22393  2014      1  "
      ]
     },
     "metadata": {},
     "output_type": "display_data"
    }
   ],
   "source": [
    "data = pd.DataFrame(weed_ca_jan2014)\n",
    "display(data)"
   ]
  },
  {
   "cell_type": "code",
   "execution_count": null,
   "metadata": {},
   "outputs": [],
   "source": []
  },
  {
   "cell_type": "code",
   "execution_count": 67,
   "metadata": {},
   "outputs": [
    {
     "name": "stdout",
     "output_type": "stream",
     "text": [
      "<class 'numpy.ndarray'>\n"
     ]
    }
   ],
   "source": [
    " \n",
    "weed_ca_jan2014 = weed_ca_2014.to_numpy()\n",
    "print(type(weed_ca_jan2014))"
   ]
  },
  {
   "cell_type": "code",
   "execution_count": 68,
   "metadata": {
    "scrolled": true
   },
   "outputs": [
    {
     "name": "stdout",
     "output_type": "stream",
     "text": [
      "<class 'numpy.ndarray'>\n"
     ]
    },
    {
     "data": {
      "text/plain": [
       "array([['California', 248.78, 12096, ...,\n",
       "        Timestamp('2014-01-01 00:00:00'), 2014, 1],\n",
       "       ['California', 248.2, 12571, ...,\n",
       "        Timestamp('2014-02-01 00:00:00'), 2014, 2],\n",
       "       ['California', 247.6, 12988, ...,\n",
       "        Timestamp('2014-03-01 00:00:00'), 2014, 3],\n",
       "       ...,\n",
       "       ['California', 245.11, 15234, ...,\n",
       "        Timestamp('2014-08-31 00:00:00'), 2014, 8],\n",
       "       ['California', 245.13, 15667, ...,\n",
       "        Timestamp('2014-10-31 00:00:00'), 2014, 10],\n",
       "       ['California', 243.96, 16501, ...,\n",
       "        Timestamp('2014-12-31 00:00:00'), 2014, 12]], dtype=object)"
      ]
     },
     "execution_count": 68,
     "metadata": {},
     "output_type": "execute_result"
    }
   ],
   "source": [
    "print(type(weed_ca_jan2014))\n",
    "weed_ca_jan2014"
   ]
  },
  {
   "cell_type": "code",
   "execution_count": 69,
   "metadata": {},
   "outputs": [
    {
     "ename": "TypeError",
     "evalue": "can only concatenate str (not \"float\") to str",
     "output_type": "error",
     "traceback": [
      "\u001b[1;31m---------------------------------------------------------------------------\u001b[0m",
      "\u001b[1;31mTypeError\u001b[0m                                 Traceback (most recent call last)",
      "\u001b[1;32m<ipython-input-69-77adbf723608>\u001b[0m in \u001b[0;36m<module>\u001b[1;34m\u001b[0m\n\u001b[1;32m----> 1\u001b[1;33m \u001b[0mweed_ca_jan2014\u001b[0m\u001b[1;33m.\u001b[0m\u001b[0mmean\u001b[0m\u001b[1;33m(\u001b[0m\u001b[1;33m)\u001b[0m\u001b[1;33m\u001b[0m\u001b[1;33m\u001b[0m\u001b[0m\n\u001b[0m",
      "\u001b[1;32mc:\\users\\ngkno\\appdata\\local\\programs\\python\\python38\\lib\\site-packages\\numpy\\core\\_methods.py\u001b[0m in \u001b[0;36m_mean\u001b[1;34m(a, axis, dtype, out, keepdims)\u001b[0m\n\u001b[0;32m    158\u001b[0m             \u001b[0mis_float16_result\u001b[0m \u001b[1;33m=\u001b[0m \u001b[1;32mTrue\u001b[0m\u001b[1;33m\u001b[0m\u001b[1;33m\u001b[0m\u001b[0m\n\u001b[0;32m    159\u001b[0m \u001b[1;33m\u001b[0m\u001b[0m\n\u001b[1;32m--> 160\u001b[1;33m     \u001b[0mret\u001b[0m \u001b[1;33m=\u001b[0m \u001b[0mumr_sum\u001b[0m\u001b[1;33m(\u001b[0m\u001b[0marr\u001b[0m\u001b[1;33m,\u001b[0m \u001b[0maxis\u001b[0m\u001b[1;33m,\u001b[0m \u001b[0mdtype\u001b[0m\u001b[1;33m,\u001b[0m \u001b[0mout\u001b[0m\u001b[1;33m,\u001b[0m \u001b[0mkeepdims\u001b[0m\u001b[1;33m)\u001b[0m\u001b[1;33m\u001b[0m\u001b[1;33m\u001b[0m\u001b[0m\n\u001b[0m\u001b[0;32m    161\u001b[0m     \u001b[1;32mif\u001b[0m \u001b[0misinstance\u001b[0m\u001b[1;33m(\u001b[0m\u001b[0mret\u001b[0m\u001b[1;33m,\u001b[0m \u001b[0mmu\u001b[0m\u001b[1;33m.\u001b[0m\u001b[0mndarray\u001b[0m\u001b[1;33m)\u001b[0m\u001b[1;33m:\u001b[0m\u001b[1;33m\u001b[0m\u001b[1;33m\u001b[0m\u001b[0m\n\u001b[0;32m    162\u001b[0m         ret = um.true_divide(\n",
      "\u001b[1;31mTypeError\u001b[0m: can only concatenate str (not \"float\") to str"
     ]
    }
   ],
   "source": [
    "weed_ca_jan2014.mean()"
   ]
  },
  {
   "cell_type": "markdown",
   "metadata": {},
   "source": [
    "* Find the mean value for each of the arrays."
   ]
  },
  {
   "cell_type": "code",
   "execution_count": 10,
   "metadata": {},
   "outputs": [
    {
     "name": "stdout",
     "output_type": "stream",
     "text": [
      "Mean-2014 Jan: 248.445483871\n",
      "Mean-2015 Jan: 243.602258065\n"
     ]
    }
   ],
   "source": [
    "print(\"Mean-2014 Jan:\", ______ )\n",
    "print(\"Mean-2015 Jan:\", ______ )"
   ]
  },
  {
   "cell_type": "markdown",
   "metadata": {},
   "source": [
    "* Calculate the effect size of one year on the mean value of weed prices in California. What difference does one year make in terms of average weed prices?"
   ]
  },
  {
   "cell_type": "code",
   "execution_count": 11,
   "metadata": {},
   "outputs": [
    {
     "name": "stdout",
     "output_type": "stream",
     "text": [
      "Effect size: 4.84322580645\n"
     ]
    }
   ],
   "source": [
    "print(\"Effect size:\", ______________ )"
   ]
  },
  {
   "cell_type": "markdown",
   "metadata": {},
   "source": [
    "**Null Hypothesis**: Mean prices aren't significantly different\n",
    "\n",
    "Perform **t-test** and determine the p-value. "
   ]
  },
  {
   "cell_type": "code",
   "execution_count": 26,
   "metadata": {},
   "outputs": [],
   "source": [
    "stats.ttest_ind?"
   ]
  },
  {
   "cell_type": "code",
   "execution_count": 12,
   "metadata": {},
   "outputs": [
    {
     "data": {
      "text/plain": [
       "Ttest_indResult(statistic=98.011325238158051, pvalue=6.2979718185084028e-68)"
      ]
     },
     "execution_count": 12,
     "metadata": {},
     "output_type": "execute_result"
    }
   ],
   "source": [
    "stats.ttest_ind(________ , ________ , equal_var=True)"
   ]
  },
  {
   "cell_type": "markdown",
   "metadata": {},
   "source": [
    "p-value is the probability that the effective size was by chance. And here, p-value is almost 0.\n",
    "\n",
    "*Conclusion*: The price difference is significant. But is a price increase of $4.85 a big deal? The price decreased in 2015 by almost 2%. Always remember to look at effect size. "
   ]
  },
  {
   "cell_type": "markdown",
   "metadata": {},
   "source": [
    "### t-test Challenge\n",
    "**Problem** Determine if prices of medium quality weed for Jan 2015 and Feb 2015 are significantly different for New York. \n",
    "* _**CoderGirl**: Use what you've learned above to answer the below two questions._"
   ]
  },
  {
   "cell_type": "code",
   "execution_count": null,
   "metadata": {
    "collapsed": true,
    "jupyter": {
     "outputs_hidden": true
    }
   },
   "outputs": [],
   "source": [
    "# Your code here"
   ]
  },
  {
   "cell_type": "markdown",
   "metadata": {},
   "source": [
    "### Assumption of t-test\n",
    "\n",
    "One assumption is that the data used came from a normal distribution. \n",
    "<br>\n",
    "There's a [Shapiro-Wilk test](https://en.wikipedia.org/wiki/Shapiro-Wilk) to test for normality. If p-value is less than 0.05, then there's a low chance that the distribution is normal.\n",
    "\n",
    "* *Are the `weed_ca_jan2015` and `weed_ca_jan2014` data normally distributed?*"
   ]
  },
  {
   "cell_type": "code",
   "execution_count": 28,
   "metadata": {},
   "outputs": [],
   "source": [
    "stats.shapiro?"
   ]
  },
  {
   "cell_type": "code",
   "execution_count": 13,
   "metadata": {},
   "outputs": [
    {
     "data": {
      "text/plain": [
       "(0.9469053149223328, 0.12818680703639984)"
      ]
     },
     "execution_count": 13,
     "metadata": {},
     "output_type": "execute_result"
    }
   ],
   "source": [
    "stats.shapiro(weed_ca_jan2015)"
   ]
  },
  {
   "cell_type": "code",
   "execution_count": 14,
   "metadata": {},
   "outputs": [
    {
     "data": {
      "text/plain": [
       "(0.9353488683700562, 0.06141229346394539)"
      ]
     },
     "execution_count": 14,
     "metadata": {},
     "output_type": "execute_result"
    }
   ],
   "source": [
    "stats.shapiro(weed_ca_jan2014)"
   ]
  },
  {
   "cell_type": "markdown",
   "metadata": {},
   "source": [
    "### A/B testing\n",
    "\n",
    "Comparing two versions to check which one performs better. Eg: Show to people two variants for the same webpage that they want to see and find which one provides better conversion rate (or the relevant metric). [wiki](https://en.wikipedia.org/wiki/A/B_testing)"
   ]
  },
  {
   "cell_type": "markdown",
   "metadata": {},
   "source": [
    "**Exercise: Impact of regulation and deregulation.**\n",
    "\n",
    "* _**CoderGirl**: Use what you've learned above to answer the below two questions._\n",
    "\n",
    "Information on regulation of Weed in the US by State [wiki](Impact of regulation and deregulation on a couple of states )\n",
    "\n",
    "1. Alaska legalized it on 4th Nov 2014. Find if prices significantly changed in Dec 2014 compared to Oct 2014. \n",
    "2. Maryland decriminalized possessing weed from Oct 1, 2014. Find if prices of weed changed significantly in Oct 2014 compared to Sep 2014"
   ]
  },
  {
   "cell_type": "code",
   "execution_count": null,
   "metadata": {
    "collapsed": true,
    "jupyter": {
     "outputs_hidden": true
    }
   },
   "outputs": [],
   "source": [
    "# Your code here"
   ]
  },
  {
   "cell_type": "markdown",
   "metadata": {},
   "source": [
    "<h2> Something to think about: Which of these give smaller p-values ? </h2>\n",
    "   \n",
    "   * Smaller effect size\n",
    "   * Smaller standard error\n",
    "   * Smaller sample size\n",
    "   * Higher variance\n",
    "   \n",
    "   **Answer:** "
   ]
  },
  {
   "cell_type": "markdown",
   "metadata": {},
   "source": [
    "### Chi-square tests"
   ]
  },
  {
   "cell_type": "markdown",
   "metadata": {},
   "source": [
    "Chi-Square tests are used when the data are frequencies, rather than numerical score/price.\n",
    "\n",
    "The following two tests make use of chi-square statistic\n",
    "\n",
    "1. chi-square test for goodness of fit\n",
    "2. chi-square test for independence\n",
    "\n",
    "Chi-square test is a non-parametric test. They do not require assumptions about population parameters and they do not test hypotheses about population parameters."
   ]
  },
  {
   "cell_type": "markdown",
   "metadata": {},
   "source": [
    "<h2> Chi-Square test for goodness fit </h2>"
   ]
  },
  {
   "cell_type": "markdown",
   "metadata": {},
   "source": [
    "$$ \\chi^2 = \\sum (O - E)^2/E $$\n",
    "\n",
    "* O is observed frequency\n",
    "* E is expected frequency\n",
    "* $ \\chi $ is the chi-square statistic"
   ]
  },
  {
   "cell_type": "markdown",
   "metadata": {},
   "source": [
    "Let's assume the proportion of people who bought High, Medium and Low quality weed in Jan-2014 as the expected proportion. Find if proportion of people who bought weed in Jan 2015 conformed to the norm"
   ]
  },
  {
   "cell_type": "markdown",
   "metadata": {},
   "source": [
    "* Find the total numbers of people who bought High/Med/Low quality weed in January of each year."
   ]
  },
  {
   "cell_type": "code",
   "execution_count": null,
   "metadata": {},
   "outputs": [],
   "source": [
    "weed_jan2014 = weed_pd[(weed_pd.year==2014) & (weed_pd.month==1)][[\"HighQN\", \"MedQN\", \"LowQN\"]]\n",
    "weed_jan2015 = weed_pd[(weed_pd.year==2015) & (weed_pd.month==1)][[\"HighQN\", \"MedQN\", \"LowQN\"]]"
   ]
  },
  {
   "cell_type": "code",
   "execution_count": 30,
   "metadata": {},
   "outputs": [],
   "source": [
    "Expected = np.array(weed_jan2014.apply(sum, axis=0))\n",
    "Observed = np.array(weed_jan2015.apply(sum, axis=0))"
   ]
  },
  {
   "cell_type": "code",
   "execution_count": 18,
   "metadata": {},
   "outputs": [
    {
     "name": "stdout",
     "output_type": "stream",
     "text": [
      "Expected: [2918004 2644757  263958] \n",
      "Observed: [4057716 4035049  358088]\n"
     ]
    }
   ],
   "source": [
    "print(\"Expected:\", Expected, \"\\n\" , \"Observed:\", Observed)"
   ]
  },
  {
   "cell_type": "markdown",
   "metadata": {},
   "source": [
    "* Print the proportions of High/Med/Low quality weed bought and observed."
   ]
  },
  {
   "cell_type": "code",
   "execution_count": 32,
   "metadata": {},
   "outputs": [
    {
     "name": "stdout",
     "output_type": "stream",
     "text": [
      "Expected: [0.5007971  0.45390159 0.04530131] \n",
      " Observed: [0.48015461 0.47747239 0.042373  ]\n"
     ]
    }
   ],
   "source": [
    "print(\"Expected:\", Expected/np.sum(Expected.astype(float)), \"\\n\" , \"Observed:\", Observed/np.sum(Observed.astype(float)))"
   ]
  },
  {
   "cell_type": "markdown",
   "metadata": {},
   "source": [
    "* Do the Chi-Squared test. What is your result? Were the proportions of people buying high quality weed in Jan 2015 different than expected?"
   ]
  },
  {
   "cell_type": "code",
   "execution_count": 33,
   "metadata": {},
   "outputs": [],
   "source": [
    "stats.chisquare?"
   ]
  },
  {
   "cell_type": "code",
   "execution_count": 20,
   "metadata": {},
   "outputs": [
    {
     "data": {
      "text/plain": [
       "Power_divergenceResult(statistic=1209562.2775169075, pvalue=0.0)"
      ]
     },
     "execution_count": 20,
     "metadata": {},
     "output_type": "execute_result"
    }
   ],
   "source": [
    "stats.chisquare(______ , ______)"
   ]
  },
  {
   "cell_type": "markdown",
   "metadata": {},
   "source": [
    "*Inference* : We reject null hypothesis. The proportions in Jan 2015 is different than what was expected."
   ]
  }
 ],
 "metadata": {
  "kernelspec": {
   "display_name": "Python 3",
   "language": "python",
   "name": "python3"
  },
  "language_info": {
   "codemirror_mode": {
    "name": "ipython",
    "version": 3
   },
   "file_extension": ".py",
   "mimetype": "text/x-python",
   "name": "python",
   "nbconvert_exporter": "python",
   "pygments_lexer": "ipython3",
   "version": "3.8.5"
  }
 },
 "nbformat": 4,
 "nbformat_minor": 4
}
